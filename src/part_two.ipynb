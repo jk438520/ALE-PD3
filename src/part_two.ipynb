{
 "cells": [
  {
   "cell_type": "code",
   "id": "initial_id",
   "metadata": {
    "collapsed": true
   },
   "source": [
    ""
   ],
   "outputs": [],
   "execution_count": null
  },
  {
   "metadata": {},
   "cell_type": "markdown",
   "source": "# Part Two",
   "id": "11ea36eef078a8f4"
  },
  {
   "metadata": {
    "ExecuteTime": {
     "end_time": "2024-05-01T12:03:16.115548Z",
     "start_time": "2024-05-01T12:03:16.089345Z"
    }
   },
   "cell_type": "code",
   "source": [
    "from part_one import *\n",
    "from collections import defaultdict \n",
    "\n",
    "\n",
    "\n",
    "def fictitious_play(num_batt: int, \n",
    "                    att_res: int, \n",
    "                    def_res: int, \n",
    "                    att_prof: [(float, [bool])], \n",
    "                    def_prof: [(float, [bool])], \n",
    "                    batt_values: [int],\n",
    "                    t = 100\n",
    "                    ):\n",
    "    asserts(num_batt, att_res, def_res, att_prof, batt_values)\n",
    "    asserts(num_batt, att_res, def_res, def_prof, batt_values)  \n",
    "    for _, att_strat in att_prof:\n",
    "        assert len(att_strat) == num_batt\n",
    "        assert sum(att_strat) == att_res\n",
    "    for _, def_strat in def_prof:\n",
    "        assert len(def_strat) == num_batt\n",
    "        assert sum(def_strat) == def_res\n",
    "    \n",
    "    ap = defaultdict(lambda: 0)\n",
    "    dp = defaultdict(lambda: 0)\n",
    "    \n",
    "    \n",
    "    for prob, att_strat in att_prof:\n",
    "        ap[stratToInt(att_strat)] += prob\n",
    "    \n",
    "    for prob, def_strat in def_prof:\n",
    "        dp[stratToInt(def_strat)] += prob\n",
    "    \n",
    "    \n",
    " \n",
    "    attacker_profs = [ap]\n",
    "    defender_profs = [dp]\n",
    "    \n",
    "    \n",
    "    for i in range(1, t): # first round is just choosing strategies\n",
    "        unpack_att = [(prob, intToStrat(num_batt, strat)) for strat, prob in ap.items()]\n",
    "        unpack_def = [(prob, intToStrat(num_batt, strat)) for strat, prob in dp.items()]\n",
    "        \n",
    "        att_counter = generate_perfect_attacker(num_batt, att_res, def_res, unpack_def, batt_values)\n",
    "        def_counter = generate_perfect_defender(num_batt, att_res, def_res, unpack_att, batt_values)\n",
    "        \n",
    "        new_ap = defaultdict(lambda: 0)\n",
    "        for strat, prob in ap.items():\n",
    "            new_ap[strat] = (i / (i + 1)) * prob\n",
    "        new_ap[stratToInt(att_counter)] += 1 / (i + 1)\n",
    "        \n",
    "        new_dp = defaultdict(lambda: 0)\n",
    "        for strat, prob in dp.items():\n",
    "            new_dp[strat] = (i / (i + 1)) * prob\n",
    "        new_dp[stratToInt(def_counter)] += 1 / (i + 1)\n",
    "        attacker_profs.append(new_ap)\n",
    "        defender_profs.append(new_dp)\n",
    "        ap = new_ap\n",
    "        dp = new_dp\n",
    "    return attacker_profs, defender_profs\n",
    "    "
   ],
   "id": "afffabe44eaa82a7",
   "outputs": [],
   "execution_count": 1
  },
  {
   "metadata": {
    "ExecuteTime": {
     "end_time": "2024-05-01T12:06:54.848818Z",
     "start_time": "2024-05-01T12:06:54.395502Z"
    }
   },
   "cell_type": "code",
   "source": [
    "att_prof = [(1/3, [1, 0, 0]), (1/3, [0, 1, 0]), (1/3, [0, 0, 1])]\n",
    "def_prof = [(1/3, [1, 1, 0]), (1/3, [0, 1, 1]), (1/3, [1, 0, 1])]\n",
    "# att_prof = [(1, [1, 0, 0])]\n",
    "# def_prof = [(1, [0, 1, 1])]\n",
    "\n",
    "attacker_profs, defender_profs = fictitious_play(3, 1, 2, att_prof, def_prof, [1, 100, 10000], 10000)\n",
    "\n",
    "for a, d in list(zip(attacker_profs, defender_profs))[-10:]:\n",
    "    print(dict(a))\n",
    "    print(dict(d))\n",
    "    print()"
   ],
   "id": "aef4a2c63c6eaa82",
   "outputs": [
    {
     "name": "stdout",
     "output_type": "stream",
     "text": [
      "{1: 0.3026056784439335, 2: 0.3637607179795142, 4: 0.3336336035765515}\n",
      "{3: 3.336336035765508e-05, 6: 0.9930270576852516, 5: 0.0069395789543922485}\n",
      "\n",
      "{1: 0.3026754737123038, 2: 0.3637243127835595, 4: 0.3336002135041359}\n",
      "{3: 3.3360021350413515e-05, 6: 0.993027755537765, 5: 0.006938884440886004}\n",
      "\n",
      "{1: 0.30274525501184224, 2: 0.36368791487374424, 4: 0.3335668301144126}\n",
      "{3: 3.335668301144119e-05, 6: 0.9930284532506102, 5: 0.006938190066379761}\n",
      "\n",
      "{1: 0.30281502234674196, 2: 0.3636515242478814, 4: 0.33353345340537577}\n",
      "{3: 3.335334534053751e-05, 6: 0.993029150823829, 5: 0.006937495830831795}\n",
      "\n",
      "{1: 0.30288477572119454, 2: 0.36361514090378455, 4: 0.3335000833750201}\n",
      "{3: 3.335000833750194e-05, 6: 0.9930298482574634, 5: 0.006936801734200396}\n",
      "\n",
      "{1: 0.3029545151393897, 2: 0.3635787648392684, 4: 0.3334667200213411}\n",
      "{3: 3.334667200213404e-05, 6: 0.9930305455515553, 5: 0.006936107776443873}\n",
      "\n",
      "{1: 0.30302424060551564, 2: 0.36354239605214833, 4: 0.33343336334233525}\n",
      "{3: 3.3343336334233456e-05, 6: 0.9930312427061465, 5: 0.006935413957520551}\n",
      "\n",
      "{1: 0.3030939521237587, 2: 0.3635060345402407, 4: 0.3334000133359998}\n",
      "{3: 3.334000133359991e-05, 6: 0.9930319397212789, 5: 0.006934720277388773}\n",
      "\n",
      "{1: 0.3031636496983038, 2: 0.3634696803013628, 4: 0.3333666700003326}\n",
      "{3: 3.333666700003319e-05, 6: 0.9930326365969944, 5: 0.0069340267360068954}\n",
      "\n",
      "{1: 0.30323333333333397, 2: 0.36343333333333266, 4: 0.3333333333333326}\n",
      "{3: 3.3333333333333186e-05, 6: 0.9930333333333347, 5: 0.006933333333333295}\n",
      "\n"
     ]
    }
   ],
   "execution_count": 9
  },
  {
   "metadata": {
    "ExecuteTime": {
     "end_time": "2024-05-01T12:07:12.353733Z",
     "start_time": "2024-05-01T12:07:12.339756Z"
    }
   },
   "cell_type": "code",
   "source": [
    "# def_prof = [(.5, [1, 0, 1]), (.5, [0, 1, 1])]\n",
    "\n",
    "def_prof = [(1, [0, 1, 1])]\n",
    "\n",
    "generate_perfect_attacker(3, 1, 2, def_prof, [1, 2, 3])"
   ],
   "id": "cd4784725b83a483",
   "outputs": [
    {
     "data": {
      "text/plain": [
       "[True, False, False]"
      ]
     },
     "execution_count": 10,
     "metadata": {},
     "output_type": "execute_result"
    }
   ],
   "execution_count": 10
  },
  {
   "metadata": {},
   "cell_type": "code",
   "outputs": [],
   "execution_count": null,
   "source": "",
   "id": "2101e079640af73c"
  }
 ],
 "metadata": {
  "kernelspec": {
   "display_name": "Python 3",
   "language": "python",
   "name": "python3"
  },
  "language_info": {
   "codemirror_mode": {
    "name": "ipython",
    "version": 2
   },
   "file_extension": ".py",
   "mimetype": "text/x-python",
   "name": "python",
   "nbconvert_exporter": "python",
   "pygments_lexer": "ipython2",
   "version": "2.7.6"
  }
 },
 "nbformat": 4,
 "nbformat_minor": 5
}
